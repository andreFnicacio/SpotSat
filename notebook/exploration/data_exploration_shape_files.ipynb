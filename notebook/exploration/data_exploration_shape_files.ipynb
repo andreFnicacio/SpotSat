{
 "cells": [
  {
   "cell_type": "code",
   "execution_count": 11,
   "metadata": {},
   "outputs": [],
   "source": [
    "import geopandas as gpd\n",
    "import matplotlib.pyplot as plt"
   ]
  },
  {
   "cell_type": "code",
   "execution_count": 6,
   "metadata": {},
   "outputs": [
    {
     "name": "stdout",
     "output_type": "stream",
     "text": [
      "   LULC                                           geometry\n",
      "0     0  POLYGON ((-49.42289 -20.73536, -49.42285 -20.7...\n",
      "1     0  POLYGON ((-49.64354 -20.74755, -49.64313 -20.7...\n",
      "2     0  POLYGON ((-49.59064 -20.69422, -49.59028 -20.6...\n",
      "3     0  POLYGON ((-49.49064 -20.69732, -49.49064 -20.6...\n",
      "4     0  POLYGON ((-49.41948 -20.7241, -49.4191 -20.723...\n"
     ]
    }
   ],
   "source": [
    "gdf = gpd.read_file(\"/home/andre/Documentos/SpotSat/data/raw/shape_training/amostras_treino.shp\")\n",
    "print(gdf.head())"
   ]
  },
  {
   "cell_type": "code",
   "execution_count": 7,
   "metadata": {},
   "outputs": [
    {
     "name": "stdout",
     "output_type": "stream",
     "text": [
      "EPSG:4326\n"
     ]
    }
   ],
   "source": [
    "print(gdf.crs)\n"
   ]
  },
  {
   "cell_type": "code",
   "execution_count": 8,
   "metadata": {},
   "outputs": [
    {
     "name": "stdout",
     "output_type": "stream",
     "text": [
      "<class 'geopandas.geodataframe.GeoDataFrame'>\n",
      "RangeIndex: 528 entries, 0 to 527\n",
      "Data columns (total 2 columns):\n",
      " #   Column    Non-Null Count  Dtype   \n",
      "---  ------    --------------  -----   \n",
      " 0   LULC      528 non-null    int32   \n",
      " 1   geometry  528 non-null    geometry\n",
      "dtypes: geometry(1), int32(1)\n",
      "memory usage: 6.3 KB\n",
      "None\n"
     ]
    }
   ],
   "source": [
    "print(gdf.info())"
   ]
  },
  {
   "cell_type": "code",
   "execution_count": 9,
   "metadata": {},
   "outputs": [
    {
     "name": "stdout",
     "output_type": "stream",
     "text": [
      "             LULC\n",
      "count  528.000000\n",
      "mean     0.534091\n",
      "std      0.499310\n",
      "min      0.000000\n",
      "25%      0.000000\n",
      "50%      1.000000\n",
      "75%      1.000000\n",
      "max      1.000000\n"
     ]
    }
   ],
   "source": [
    "print(gdf.describe())\n"
   ]
  },
  {
   "cell_type": "code",
   "execution_count": 10,
   "metadata": {},
   "outputs": [
    {
     "name": "stdout",
     "output_type": "stream",
     "text": [
      "LULC        0\n",
      "geometry    0\n",
      "dtype: int64\n"
     ]
    }
   ],
   "source": [
    "print(gdf.isnull().sum())\n"
   ]
  }
 ],
 "metadata": {
  "kernelspec": {
   "display_name": "spotsat_venv",
   "language": "python",
   "name": "python3"
  },
  "language_info": {
   "codemirror_mode": {
    "name": "ipython",
    "version": 3
   },
   "file_extension": ".py",
   "mimetype": "text/x-python",
   "name": "python",
   "nbconvert_exporter": "python",
   "pygments_lexer": "ipython3",
   "version": "3.10.12"
  }
 },
 "nbformat": 4,
 "nbformat_minor": 2
}
